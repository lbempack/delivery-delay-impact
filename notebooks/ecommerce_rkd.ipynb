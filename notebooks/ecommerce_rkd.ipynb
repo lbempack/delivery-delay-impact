{
 "cells": [
  {
   "cell_type": "code",
   "execution_count": 4,
   "id": "6ec11291",
   "metadata": {},
   "outputs": [],
   "source": [
    "import pandas as pd\n",
    "import numpy as np\n",
    "import matplotlib.pyplot as plt"
   ]
  },
  {
   "cell_type": "code",
   "execution_count": 5,
   "id": "0acb7664",
   "metadata": {},
   "outputs": [],
   "source": [
    "orders = pd.read_csv(\"../data/olist_orders_dataset.csv\")\n",
    "reviews = pd.read_csv(\"../data/olist_order_reviews_dataset.csv\")"
   ]
  }
 ],
 "metadata": {
  "kernelspec": {
   "display_name": "base",
   "language": "python",
   "name": "python3"
  },
  "language_info": {
   "codemirror_mode": {
    "name": "ipython",
    "version": 3
   },
   "file_extension": ".py",
   "mimetype": "text/x-python",
   "name": "python",
   "nbconvert_exporter": "python",
   "pygments_lexer": "ipython3",
   "version": "3.12.4"
  }
 },
 "nbformat": 4,
 "nbformat_minor": 5
}
